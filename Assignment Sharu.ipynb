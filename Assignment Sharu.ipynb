{
 "cells": [
  {
   "cell_type": "code",
   "execution_count": 3,
   "id": "0e91af08",
   "metadata": {},
   "outputs": [],
   "source": [
    "import pandas as pd\n",
    "import numpy as np\n",
    "import math\n",
    "from scipy.stats import norm\n",
    "from sklearn.preprocessing import StandardScaler\n",
    "from scipy import stats"
   ]
  },
  {
   "cell_type": "code",
   "execution_count": 4,
   "id": "2bae2692",
   "metadata": {},
   "outputs": [],
   "source": [
    "df_estimate = pd.read_csv('/Users/Sharu Tharan/Documents/Python codes/estimate.csv')"
   ]
  },
  {
   "cell_type": "code",
   "execution_count": 5,
   "id": "d27ace45",
   "metadata": {},
   "outputs": [
    {
     "data": {
      "text/html": [
       "<div>\n",
       "<style scoped>\n",
       "    .dataframe tbody tr th:only-of-type {\n",
       "        vertical-align: middle;\n",
       "    }\n",
       "\n",
       "    .dataframe tbody tr th {\n",
       "        vertical-align: top;\n",
       "    }\n",
       "\n",
       "    .dataframe thead th {\n",
       "        text-align: right;\n",
       "    }\n",
       "</style>\n",
       "<table border=\"1\" class=\"dataframe\">\n",
       "  <thead>\n",
       "    <tr style=\"text-align: right;\">\n",
       "      <th></th>\n",
       "      <th>Current</th>\n",
       "    </tr>\n",
       "  </thead>\n",
       "  <tbody>\n",
       "    <tr>\n",
       "      <th>0</th>\n",
       "      <td>264</td>\n",
       "    </tr>\n",
       "    <tr>\n",
       "      <th>1</th>\n",
       "      <td>261</td>\n",
       "    </tr>\n",
       "    <tr>\n",
       "      <th>2</th>\n",
       "      <td>267</td>\n",
       "    </tr>\n",
       "    <tr>\n",
       "      <th>3</th>\n",
       "      <td>272</td>\n",
       "    </tr>\n",
       "    <tr>\n",
       "      <th>4</th>\n",
       "      <td>258</td>\n",
       "    </tr>\n",
       "    <tr>\n",
       "      <th>5</th>\n",
       "      <td>283</td>\n",
       "    </tr>\n",
       "    <tr>\n",
       "      <th>6</th>\n",
       "      <td>258</td>\n",
       "    </tr>\n",
       "    <tr>\n",
       "      <th>7</th>\n",
       "      <td>266</td>\n",
       "    </tr>\n",
       "    <tr>\n",
       "      <th>8</th>\n",
       "      <td>259</td>\n",
       "    </tr>\n",
       "    <tr>\n",
       "      <th>9</th>\n",
       "      <td>270</td>\n",
       "    </tr>\n",
       "    <tr>\n",
       "      <th>10</th>\n",
       "      <td>263</td>\n",
       "    </tr>\n",
       "    <tr>\n",
       "      <th>11</th>\n",
       "      <td>264</td>\n",
       "    </tr>\n",
       "    <tr>\n",
       "      <th>12</th>\n",
       "      <td>284</td>\n",
       "    </tr>\n",
       "    <tr>\n",
       "      <th>13</th>\n",
       "      <td>263</td>\n",
       "    </tr>\n",
       "    <tr>\n",
       "      <th>14</th>\n",
       "      <td>260</td>\n",
       "    </tr>\n",
       "    <tr>\n",
       "      <th>15</th>\n",
       "      <td>283</td>\n",
       "    </tr>\n",
       "    <tr>\n",
       "      <th>16</th>\n",
       "      <td>255</td>\n",
       "    </tr>\n",
       "  </tbody>\n",
       "</table>\n",
       "</div>"
      ],
      "text/plain": [
       "    Current\n",
       "0       264\n",
       "1       261\n",
       "2       267\n",
       "3       272\n",
       "4       258\n",
       "5       283\n",
       "6       258\n",
       "7       266\n",
       "8       259\n",
       "9       270\n",
       "10      263\n",
       "11      264\n",
       "12      284\n",
       "13      263\n",
       "14      260\n",
       "15      283\n",
       "16      255"
      ]
     },
     "execution_count": 5,
     "metadata": {},
     "output_type": "execute_result"
    }
   ],
   "source": [
    "df_estimate"
   ]
  },
  {
   "cell_type": "code",
   "execution_count": 27,
   "id": "693f5b29",
   "metadata": {},
   "outputs": [],
   "source": [
    "def estimate_calc(csv_file, sample_mean, sample_size, sigma, Alpha=0.025,Df=None, csv_flag = 1) :\n",
    "    z = {'0.025' : 1.96, '0.05' : 1.68}\n",
    "    t = {'1': 1.71,'2':4.33,'3':4.18,'4':2.776,'5':2.571}\n",
    "    if csv_flag == 1 :\n",
    "        sample_mean=df_estimate['Current'].mean() \n",
    "        sample_size=len(df_estimate)\n",
    "        sigma=df_estimate['Current'].std()\n",
    "        User_input=input(\"Hi Sir, what do you want to Calculate? \\n Press 1 for PE \\n Press 2 for IE \\n Press 3 for All \\n\")\n",
    "        PE_csv= sample_mean\n",
    "        #if sample_size is greater than 30 then \n",
    "        if sample_size>=30:\n",
    "            IE1=sample_mean-z[str(Alpha)]*(sigma/(math.sqrt( sample_size)))\n",
    "            IE2=sample_mean+z[str(Alpha)]*(sigma/(math.sqrt( sample_size)))\n",
    "            if  User_input==1:\n",
    "                result=print(f\"The data follows the z-distribution and Point Estimate is { PE_csv}\")\n",
    "            elif User_input==2:\n",
    "                result=print(f\"The data follows the z-distribution and the Interval Estimate is {IE1} to {IE2}\")\n",
    "            else:\n",
    "                result=print(f\"The data follows the z-distribution. \\n Point Estimate is { PE_csv} and the Interval Estimate is {IE1} to {IE2}\")\n",
    "            return(result)\n",
    "        else:\n",
    "            IE1=sample_mean-t[str(Df)]*(sigma/(math.sqrt( sample_size)))\n",
    "            IE2=sample_mean+t[str(Df)]*(sigma/(math.sqrt( sample_size)))\n",
    "            if  User_input==1:\n",
    "                result=print(f\"The data follows the t-distribution and Point Estimate is { PE_csv}\")\n",
    "            elif User_input==2:\n",
    "                result=print(f\"The data follows the t-distribution and the Interval Estimate is {IE1} to {IE2}\")\n",
    "            else:\n",
    "                result=print(f\"The data follows the t-distribution. \\n Point Estimate is { PE_csv} and the Interval Estimate is {IE1} to {IE2}\")\n",
    "            return(result)\n",
    "    else:\n",
    "        User_input=input(\"Hi Sir, what do you want to Calculate? \\n Press 1 for PE \\n Press 2 for IE \\n Press 3 for All \\n\")\n",
    "        PE=sample_mean\n",
    "        if sample_size>=30:\n",
    "            IE1=sample_mean-z[str(Alpha)]*(sigma/(math.sqrt( sample_size)))\n",
    "            IE2=sample_mean+z[str(Alpha)]*(sigma/(math.sqrt( sample_size)))\n",
    "            if  User_input==1:\n",
    "                result=print(f\"The data follows the z-distribution and Point Estimate is { PE}\")\n",
    "            elif User_input==2:\n",
    "                result=print(f\"The data follows the z-distribution and the Interval Estimate is {IE1} to {IE2}\")\n",
    "            else:\n",
    "                result=print(f\"The data follows the z-distribution. \\n Point Estimate is { PE} and the Interval Estimate is {IE1} to {IE2}\")\n",
    "            return(result)\n",
    "        else:\n",
    "            IE1=sample_mean-t[str(Df)]*(sigma/(math.sqrt( sample_size)))\n",
    "            IE2=sample_mean+t[str(Df)]*(sigma/(math.sqrt( sample_size)))\n",
    "            if  User_input==1:\n",
    "                result=print(f\"The data follows the t-distribution and Point Estimate is { PE}\")\n",
    "            elif User_input==2:\n",
    "                result=print(f\"The data follows the t-distribution and the Interval Estimate is {IE1} to {IE2}\")\n",
    "            else:\n",
    "                result=print(f\"The data follows the t-distribution. \\n Point Estimate is { PE} and the Interval Estimate is {IE1} to {IE2}\")\n",
    "            return(result)\n",
    "                     "
   ]
  },
  {
   "cell_type": "code",
   "execution_count": 28,
   "id": "12c10393",
   "metadata": {},
   "outputs": [
    {
     "name": "stdout",
     "output_type": "stream",
     "text": [
      "Hi Sir, what do you want to Calculate? \n",
      " Press 1 for PE \n",
      " Press 2 for IE \n",
      " Press 3 for All \n",
      "1\n",
      "The data follows the z-distribution. \n",
      " Point Estimate is 41100 and the Interval Estimate is 39630.0 to 42570.0\n"
     ]
    }
   ],
   "source": [
    "estimate_calc(csv_file=None, sample_mean=41100, sample_size=36, sigma=4500,Alpha=0.025,Df=None, csv_flag = 0)"
   ]
  },
  {
   "cell_type": "code",
   "execution_count": 24,
   "id": "a6e9f572",
   "metadata": {},
   "outputs": [
    {
     "name": "stdout",
     "output_type": "stream",
     "text": [
      "Hi Sir, what do you want to Calculate? \n",
      " Press 1 for PE \n",
      " Press 2 for IE \n",
      " Press 3 for All \n",
      "1\n",
      "The data follows the t-distribution. \n",
      " Point estimate is 266.47058823529414 and the Interval Estimate is 260.7721073748558 to 272.1690690957325\n"
     ]
    }
   ],
   "source": [
    "estimate_calc(csv_file=None, sample_mean=750, sample_size=6, sigma=55,Alpha=None,Df=5, csv_flag = 1)"
   ]
  },
  {
   "cell_type": "code",
   "execution_count": null,
   "id": "192673bd",
   "metadata": {},
   "outputs": [],
   "source": []
  }
 ],
 "metadata": {
  "kernelspec": {
   "display_name": "Python 3 (ipykernel)",
   "language": "python",
   "name": "python3"
  },
  "language_info": {
   "codemirror_mode": {
    "name": "ipython",
    "version": 3
   },
   "file_extension": ".py",
   "mimetype": "text/x-python",
   "name": "python",
   "nbconvert_exporter": "python",
   "pygments_lexer": "ipython3",
   "version": "3.9.12"
  }
 },
 "nbformat": 4,
 "nbformat_minor": 5
}
